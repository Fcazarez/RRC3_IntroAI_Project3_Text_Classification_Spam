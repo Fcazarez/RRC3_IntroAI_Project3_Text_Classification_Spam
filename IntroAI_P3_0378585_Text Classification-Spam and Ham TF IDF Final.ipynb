{
  "cells": [
    {
      "cell_type": "markdown",
      "metadata": {
        "id": "Ldwar1ImiNog"
      },
      "source": [
        "# **COMP-3703 (241551) Introduction to Artificial Intelligence**\n",
        "# **Project 3 - Text Classification-Spam and Ham and TF-IDF**\n",
        "# **Felix Cazarez**"
      ]
    },
    {
      "cell_type": "markdown",
      "metadata": {
        "id": "HZ8u38hAdmqF"
      },
      "source": [
        "**Objective:**\n",
        "* Successfully implement a spam classifier to the YouTube comments from 5 different YouTube videos,\n",
        "* Create code to calculate TF-IDF scores for a list of sentences.\n",
        "\n",
        "**Instructions:**\n",
        "\n",
        "From the UCI ML Repository, you will need the following files:\n",
        "\n",
        "https://archive.ics.uci.edu/ml/datasets/YouTube+Spam+Collection"
      ]
    },
    {
      "cell_type": "markdown",
      "metadata": {},
      "source": [
        "# Task 1: Data Exploration\n",
        "\n",
        "## 1.1 The Data\n",
        "* Read in the Psy file to your Jupyter Notebook.** (1 point)\n",
        "* Display the head and tail of the file.** (1 point)\n",
        "* Give the number of rows in the file.** (1 point)\n",
        "* Display the number of spam and ham comments for the file.** (2 points)\n",
        "* Discuss the balance of the dataset and the balance of the classes spam/ham. Based on this, what sort of classifiers are appropriate for the task?** (3 marks)"
      ]
    },
    {
      "cell_type": "code",
      "execution_count": 151,
      "metadata": {},
      "outputs": [],
      "source": [
        "# import libraries\n",
        "\n",
        "import math\n",
        "import matplotlib.pyplot as plt\n",
        "import pandas as pd\n",
        "import re\n",
        "\n",
        "\n",
        "from collections import Counter\n",
        "from sklearn.ensemble import RandomForestClassifier\n",
        "from sklearn.feature_extraction.text import (\n",
        "    CountVectorizer,\n",
        "    TfidfTransformer\n",
        "    )\n",
        "from sklearn.metrics import confusion_matrix\n",
        "from sklearn.model_selection import (\n",
        "     train_test_split,\n",
        "     cross_val_score,\n",
        "     GridSearchCV\n",
        "     )\n",
        "from sklearn.pipeline import Pipeline\n",
        "from sklearn.utils import shuffle\n",
        "\n",
        "import seaborn as sns"
      ]
    },
    {
      "cell_type": "code",
      "execution_count": 152,
      "metadata": {},
      "outputs": [
        {
          "name": "stdout",
          "output_type": "stream",
          "text": [
            "Head of the psy dataframe: \n"
          ]
        },
        {
          "data": {
            "text/html": [
              "<div>\n",
              "<style scoped>\n",
              "    .dataframe tbody tr th:only-of-type {\n",
              "        vertical-align: middle;\n",
              "    }\n",
              "\n",
              "    .dataframe tbody tr th {\n",
              "        vertical-align: top;\n",
              "    }\n",
              "\n",
              "    .dataframe thead th {\n",
              "        text-align: right;\n",
              "    }\n",
              "</style>\n",
              "<table border=\"1\" class=\"dataframe\">\n",
              "  <thead>\n",
              "    <tr style=\"text-align: right;\">\n",
              "      <th></th>\n",
              "      <th>COMMENT_ID</th>\n",
              "      <th>AUTHOR</th>\n",
              "      <th>DATE</th>\n",
              "      <th>CONTENT</th>\n",
              "      <th>CLASS</th>\n",
              "    </tr>\n",
              "  </thead>\n",
              "  <tbody>\n",
              "    <tr>\n",
              "      <th>0</th>\n",
              "      <td>LZQPQhLyRh80UYxNuaDWhIGQYNQ96IuCg-AYWqNPjpU</td>\n",
              "      <td>Julius NM</td>\n",
              "      <td>2013-11-07T06:20:48</td>\n",
              "      <td>Huh, anyway check out this you[tube] channel: ...</td>\n",
              "      <td>1</td>\n",
              "    </tr>\n",
              "    <tr>\n",
              "      <th>1</th>\n",
              "      <td>LZQPQhLyRh_C2cTtd9MvFRJedxydaVW-2sNg5Diuo4A</td>\n",
              "      <td>adam riyati</td>\n",
              "      <td>2013-11-07T12:37:15</td>\n",
              "      <td>Hey guys check out my new channel and our firs...</td>\n",
              "      <td>1</td>\n",
              "    </tr>\n",
              "    <tr>\n",
              "      <th>2</th>\n",
              "      <td>LZQPQhLyRh9MSZYnf8djyk0gEF9BHDPYrrK-qCczIY8</td>\n",
              "      <td>Evgeny Murashkin</td>\n",
              "      <td>2013-11-08T17:34:21</td>\n",
              "      <td>just for test I have to say murdev.com</td>\n",
              "      <td>1</td>\n",
              "    </tr>\n",
              "    <tr>\n",
              "      <th>3</th>\n",
              "      <td>z13jhp0bxqncu512g22wvzkasxmvvzjaz04</td>\n",
              "      <td>ElNino Melendez</td>\n",
              "      <td>2013-11-09T08:28:43</td>\n",
              "      <td>me shaking my sexy ass on my channel enjoy ^_^ ﻿</td>\n",
              "      <td>1</td>\n",
              "    </tr>\n",
              "    <tr>\n",
              "      <th>4</th>\n",
              "      <td>z13fwbwp1oujthgqj04chlngpvzmtt3r3dw</td>\n",
              "      <td>GsMega</td>\n",
              "      <td>2013-11-10T16:05:38</td>\n",
              "      <td>watch?v=vtaRGgvGtWQ   Check this out .﻿</td>\n",
              "      <td>1</td>\n",
              "    </tr>\n",
              "  </tbody>\n",
              "</table>\n",
              "</div>"
            ],
            "text/plain": [
              "                                    COMMENT_ID            AUTHOR  \\\n",
              "0  LZQPQhLyRh80UYxNuaDWhIGQYNQ96IuCg-AYWqNPjpU         Julius NM   \n",
              "1  LZQPQhLyRh_C2cTtd9MvFRJedxydaVW-2sNg5Diuo4A       adam riyati   \n",
              "2  LZQPQhLyRh9MSZYnf8djyk0gEF9BHDPYrrK-qCczIY8  Evgeny Murashkin   \n",
              "3          z13jhp0bxqncu512g22wvzkasxmvvzjaz04   ElNino Melendez   \n",
              "4          z13fwbwp1oujthgqj04chlngpvzmtt3r3dw            GsMega   \n",
              "\n",
              "                  DATE                                            CONTENT  \\\n",
              "0  2013-11-07T06:20:48  Huh, anyway check out this you[tube] channel: ...   \n",
              "1  2013-11-07T12:37:15  Hey guys check out my new channel and our firs...   \n",
              "2  2013-11-08T17:34:21             just for test I have to say murdev.com   \n",
              "3  2013-11-09T08:28:43   me shaking my sexy ass on my channel enjoy ^_^ ﻿   \n",
              "4  2013-11-10T16:05:38            watch?v=vtaRGgvGtWQ   Check this out .﻿   \n",
              "\n",
              "   CLASS  \n",
              "0      1  \n",
              "1      1  \n",
              "2      1  \n",
              "3      1  \n",
              "4      1  "
            ]
          },
          "execution_count": 152,
          "metadata": {},
          "output_type": "execute_result"
        }
      ],
      "source": [
        "git_url_psy = 'https://raw.githubusercontent.com/Fcazarez/RRC3_IntroAI_Project3_Text_Classification_Spam/main/Youtube01-Psy.csv'\n",
        "df_psy = pd.read_csv (git_url_psy)\n",
        "print(\"Head of the psy dataframe: \") \n",
        "df_psy.head()\n"
      ]
    },
    {
      "cell_type": "code",
      "execution_count": 153,
      "metadata": {},
      "outputs": [
        {
          "name": "stdout",
          "output_type": "stream",
          "text": [
            "Tail of the psy dataframe: \n"
          ]
        },
        {
          "data": {
            "text/html": [
              "<div>\n",
              "<style scoped>\n",
              "    .dataframe tbody tr th:only-of-type {\n",
              "        vertical-align: middle;\n",
              "    }\n",
              "\n",
              "    .dataframe tbody tr th {\n",
              "        vertical-align: top;\n",
              "    }\n",
              "\n",
              "    .dataframe thead th {\n",
              "        text-align: right;\n",
              "    }\n",
              "</style>\n",
              "<table border=\"1\" class=\"dataframe\">\n",
              "  <thead>\n",
              "    <tr style=\"text-align: right;\">\n",
              "      <th></th>\n",
              "      <th>COMMENT_ID</th>\n",
              "      <th>AUTHOR</th>\n",
              "      <th>DATE</th>\n",
              "      <th>CONTENT</th>\n",
              "      <th>CLASS</th>\n",
              "    </tr>\n",
              "  </thead>\n",
              "  <tbody>\n",
              "    <tr>\n",
              "      <th>345</th>\n",
              "      <td>z13th1q4yzihf1bll23qxzpjeujterydj</td>\n",
              "      <td>Carmen Racasanu</td>\n",
              "      <td>2014-11-14T13:27:52</td>\n",
              "      <td>How can this have 2 billion views when there's...</td>\n",
              "      <td>0</td>\n",
              "    </tr>\n",
              "    <tr>\n",
              "      <th>346</th>\n",
              "      <td>z13fcn1wfpb5e51xe04chdxakpzgchyaxzo0k</td>\n",
              "      <td>diego mogrovejo</td>\n",
              "      <td>2014-11-14T13:28:08</td>\n",
              "      <td>I don't now why I'm watching this in 2014﻿</td>\n",
              "      <td>0</td>\n",
              "    </tr>\n",
              "    <tr>\n",
              "      <th>347</th>\n",
              "      <td>z130zd5b3titudkoe04ccbeohojxuzppvbg</td>\n",
              "      <td>BlueYetiPlayz -Call Of Duty and More</td>\n",
              "      <td>2015-05-23T13:04:32</td>\n",
              "      <td>subscribe to me for call of duty vids and give...</td>\n",
              "      <td>1</td>\n",
              "    </tr>\n",
              "    <tr>\n",
              "      <th>348</th>\n",
              "      <td>z12he50arvrkivl5u04cctawgxzkjfsjcc4</td>\n",
              "      <td>Photo Editor</td>\n",
              "      <td>2015-06-05T14:14:48</td>\n",
              "      <td>hi guys please my android photo editor downloa...</td>\n",
              "      <td>1</td>\n",
              "    </tr>\n",
              "    <tr>\n",
              "      <th>349</th>\n",
              "      <td>z13vhvu54u3ewpp5h04ccb4zuoardrmjlyk0k</td>\n",
              "      <td>Ray Benich</td>\n",
              "      <td>2015-06-05T18:05:16</td>\n",
              "      <td>The first billion viewed this because they tho...</td>\n",
              "      <td>0</td>\n",
              "    </tr>\n",
              "  </tbody>\n",
              "</table>\n",
              "</div>"
            ],
            "text/plain": [
              "                                COMMENT_ID  \\\n",
              "345      z13th1q4yzihf1bll23qxzpjeujterydj   \n",
              "346  z13fcn1wfpb5e51xe04chdxakpzgchyaxzo0k   \n",
              "347    z130zd5b3titudkoe04ccbeohojxuzppvbg   \n",
              "348    z12he50arvrkivl5u04cctawgxzkjfsjcc4   \n",
              "349  z13vhvu54u3ewpp5h04ccb4zuoardrmjlyk0k   \n",
              "\n",
              "                                   AUTHOR                 DATE  \\\n",
              "345                       Carmen Racasanu  2014-11-14T13:27:52   \n",
              "346                       diego mogrovejo  2014-11-14T13:28:08   \n",
              "347  BlueYetiPlayz -Call Of Duty and More  2015-05-23T13:04:32   \n",
              "348                          Photo Editor  2015-06-05T14:14:48   \n",
              "349                            Ray Benich  2015-06-05T18:05:16   \n",
              "\n",
              "                                               CONTENT  CLASS  \n",
              "345  How can this have 2 billion views when there's...      0  \n",
              "346         I don't now why I'm watching this in 2014﻿      0  \n",
              "347  subscribe to me for call of duty vids and give...      1  \n",
              "348  hi guys please my android photo editor downloa...      1  \n",
              "349  The first billion viewed this because they tho...      0  "
            ]
          },
          "execution_count": 153,
          "metadata": {},
          "output_type": "execute_result"
        }
      ],
      "source": [
        "print(\"Tail of the psy dataframe: \") \n",
        "df_psy.tail()"
      ]
    },
    {
      "cell_type": "code",
      "execution_count": 154,
      "metadata": {},
      "outputs": [
        {
          "name": "stdout",
          "output_type": "stream",
          "text": [
            "Number of rows psy dataframe: 350\n"
          ]
        }
      ],
      "source": [
        "num_rows = df_psy.shape[0]\n",
        "print(\"Number of rows psy dataframe:\", num_rows)"
      ]
    },
    {
      "cell_type": "code",
      "execution_count": 155,
      "metadata": {},
      "outputs": [
        {
          "name": "stdout",
          "output_type": "stream",
          "text": [
            "Number of Spam Comments: 175\n",
            "Number of Ham Comments: 175\n"
          ]
        }
      ],
      "source": [
        "# Count the number of spam and ham comments\n",
        "spam_count = df_psy[df_psy['CLASS'] == 1].shape[0]\n",
        "ham_count = df_psy[df_psy['CLASS'] == 0].shape[0]\n",
        "\n",
        "# Display the counts\n",
        "print(f\"Number of Spam Comments: {spam_count}\")\n",
        "print(f\"Number of Ham Comments: {ham_count}\")\n"
      ]
    },
    {
      "cell_type": "markdown",
      "metadata": {},
      "source": [
        "**Comments:**\n",
        "\n",
        "Ham and spam are perfectly balanced, we can say the data is good to go for modelling since the training stage will not have bias and the chosen model can be less complex. The classifiers suitable for this balanced dataset include:\n",
        "\n",
        "* Logistic Regression: This classifier is a good starting point and tends to work well for balanced datasets.\n",
        "\n",
        "* Decision Trees: Decision trees can handle balanced datasets effectively and are capable of capturing complex relationships in the data.\n",
        "\n",
        "* Random Forests: This ensemble method, which consists of multiple decision trees, can provide robust performance and handle both numerical and categorical features well.\n",
        "\n",
        "* Support Vector Machines (SVM): SVMs can work effectively for balanced datasets and are capable of handling high-dimensional feature spaces.\n",
        "\n",
        "* K-Nearest Neighbors (KNN): KNN is a simple and effective algorithm for classification, and it tends to work well when the dataset is balanced."
      ]
    },
    {
      "cell_type": "markdown",
      "metadata": {},
      "source": [
        "## 1.2 Data Transformation\n",
        "* Create a bag-of-words for the Psy file. The fit and transform should be done on the ‘CONTENT’ of your data.** (2 points)\n",
        "* Display the matrix information. For example.** (2 points)\n",
        "* How many different words are in your bag of words?** (1 point)\n",
        "* Display the 349th comment in the Psy file.** (2 points)\n",
        "* Using ’analyze’ ,or something similar, give the breakdown of the 349th comment.** (2 points)"
      ]
    },
    {
      "cell_type": "code",
      "execution_count": 156,
      "metadata": {},
      "outputs": [
        {
          "name": "stdout",
          "output_type": "stream",
          "text": [
            "Bag-of-Words Matrix Information:\n",
            "Shape: (350, 1418)\n",
            "Number of different words: 1418\n",
            "============================================================\n",
            "\n",
            "349th Comment:\n",
            "hi guys please my android photo editor download. thanks https://play.google.com/store/apps/details?id=com.butalabs.photo.editor﻿\n",
            "\n",
            "Breakdown of 349th Comment: ['hi', 'guys', 'please', 'my', 'android', 'photo', 'editor', 'download', 'thanks', 'https', 'play', 'google', 'com', 'store', 'apps', 'details', 'id', 'com', 'butalabs', 'photo', 'editor']\n"
          ]
        }
      ],
      "source": [
        "from sklearn.feature_extraction.text import CountVectorizer\n",
        "\n",
        "# Create the CountVectorizer\n",
        "content_data = df_psy['CONTENT'].tolist()\n",
        "\n",
        "# Create the CountVectorizer\n",
        "vectorizer = CountVectorizer()\n",
        "\n",
        "# Fit and transform the 'CONTENT' data into a bag-of-words matrix\n",
        "bow_matrix = vectorizer.fit_transform(content_data)\n",
        "\n",
        "# Display the matrix information\n",
        "print(\"Bag-of-Words Matrix Information:\")\n",
        "print(f\"Shape: {bow_matrix.shape}\")\n",
        "print(f\"Number of different words: {len(vectorizer.get_feature_names_out())}\")\n",
        "\n",
        "# Display the 349th comment in the Psy file\n",
        "comment_349 = content_data[348]  # Indexing starts from 0\n",
        "print(\"==\"*30)\n",
        "print(f\"\\n349th Comment:\\n{comment_349}\")\n",
        "\n",
        "# Using 'analyze' or similar, give the breakdown of the 349th comment\n",
        "analyze_result = vectorizer.build_analyzer()(comment_349)\n",
        "print(f\"\\nBreakdown of 349th Comment: {analyze_result}\")\n"
      ]
    },
    {
      "cell_type": "markdown",
      "metadata": {},
      "source": [
        "# 2. Training and Testing Sets\n",
        "* Shuffle your dataset(frac=1).** (1 point)\n",
        "* Create your training and testing splits by using the first 300 entries for training and the remaining for testing. Name them appropriately.** (3 points)\n",
        "* Create your training and testing attributes BOW. Name them appropriately.** (2 points)\n",
        "* Create your training and testing labels. Name them appropriately.** (2 points)\n",
        "* Output the matrix information of d_train_att and d_test_att. What are the dimensions of the matrices?** (3 points)"
      ]
    },
    {
      "cell_type": "code",
      "execution_count": 157,
      "metadata": {},
      "outputs": [
        {
          "data": {
            "text/plain": [
              "(350, 1418)"
            ]
          },
          "execution_count": 157,
          "metadata": {},
          "output_type": "execute_result"
        }
      ],
      "source": [
        "bow_matrix.shape\n"
      ]
    },
    {
      "cell_type": "code",
      "execution_count": 158,
      "metadata": {},
      "outputs": [
        {
          "name": "stdout",
          "output_type": "stream",
          "text": [
            "Shape of X_train (Features): (300,)\n",
            "Shape of X_test (Features): (50,)\n",
            "Shape of y_train (Labels): (300,)\n",
            "Shape of y_test (Labels): (50,)\n",
            "Matrix Information for Training Data (d_train_att):\n",
            "Shape: (300, 1262)\n",
            "\n",
            "Matrix Information for Testing Data (d_test_att):\n",
            "Shape: (50, 1262)\n"
          ]
        }
      ],
      "source": [
        "from sklearn.model_selection import train_test_split\n",
        "from sklearn.feature_extraction.text import CountVectorizer\n",
        "\n",
        "# Shuffle your dataset\n",
        "df_psy_shuffled = df_psy.sample(frac=1, random_state=42)\n",
        "\n",
        "X = df_psy_shuffled['CONTENT']\n",
        "y = df_psy_shuffled['CLASS']\n",
        "\n",
        "# Create training and testing splits\n",
        "X_train, X_test, y_train, y_test = train_test_split(\n",
        "    X,                          # Features\n",
        "    y,                          # Labels\n",
        "    test_size=50,               # Adjust the test size as needed\n",
        "    random_state=42\n",
        ")\n",
        "\n",
        "#verifying shapes\n",
        "print(\"Shape of X_train (Features):\", X_train.shape)\n",
        "print(\"Shape of X_test (Features):\", X_test.shape)\n",
        "print(\"Shape of y_train (Labels):\", y_train.shape)\n",
        "print(\"Shape of y_test (Labels):\", y_test.shape)\n",
        "\n",
        "# Create bag-of-words for training and testing data\n",
        "vectorizer = CountVectorizer()\n",
        "X_train_bow = vectorizer.fit_transform(X_train)\n",
        "#X_train_bow = vectorizer.transform(X_train)\n",
        "X_test_bow = vectorizer.transform(X_test)\n",
        "\n",
        "\n",
        "# Output matrix information\n",
        "print(\"Matrix Information for Training Data (d_train_att):\")\n",
        "print(f\"Shape: {X_train_bow.shape}\")\n",
        "\n",
        "print(\"\\nMatrix Information for Testing Data (d_test_att):\")\n",
        "print(f\"Shape: {X_test_bow.shape}\")\n"
      ]
    },
    {
      "cell_type": "markdown",
      "metadata": {},
      "source": [
        "# 3. Random Forest Classifier\n",
        "* Implement a Random Forest classifier. With 50 trees, output.** (3 points)\n",
        "* Train the classifier on the training data and test its performance on the testing data.** (2 points)\n",
        "* Print the training and testing accuracies.** (2 points)\n",
        "* Cross validate using 3 folds. Output the accuracies of the folds.** (3 points)\n",
        "* Generate a confusion matrix for the Random Forest classifier's predictions on the test data.** (3 points)\n",
        "* Visualize this matrix (you may need to implement or use a utility function for visualization).** (3 points)"
      ]
    },
    {
      "cell_type": "code",
      "execution_count": 159,
      "metadata": {},
      "outputs": [
        {
          "name": "stdout",
          "output_type": "stream",
          "text": [
            "Training Accuracy: 1.0\n",
            "Testing Accuracy: 0.9\n"
          ]
        }
      ],
      "source": [
        "from sklearn.ensemble import RandomForestClassifier\n",
        "from sklearn.model_selection import cross_val_score, cross_val_predict\n",
        "from sklearn.metrics import accuracy_score, confusion_matrix\n",
        "import seaborn as sns\n",
        "import matplotlib.pyplot as plt\n",
        "\n",
        "# Implement a Random Forest classifier with 50 trees\n",
        "rf_classifier = RandomForestClassifier(n_estimators=50, random_state=42)\n",
        "\n",
        "# Train the classifier on the training data\n",
        "rf_classifier.fit(X_train_bow, y_train)\n",
        "\n",
        "# Test the classifier on the testing data\n",
        "y_pred_test = rf_classifier.predict(X_test_bow)\n",
        "\n",
        "# Print the training and testing accuracies\n",
        "#train_accuracy = accuracy_score(y_train, rf_classifier.predict(X_train_bow))\n",
        "#test_accuracy = accuracy_score(y_test, y_pred_test)\n",
        "\n",
        "# training accuracy\n",
        "train_accuracy = rf_classifier.score(X_train_bow, y_train)\n",
        "# test accuracy\n",
        "test_accuracy = rf_classifier.score(X_test_bow, y_test)\n",
        "\n",
        "print(\"Training Accuracy:\", train_accuracy)\n",
        "print(\"Testing Accuracy:\", test_accuracy)\n",
        "\n"
      ]
    },
    {
      "cell_type": "code",
      "execution_count": 160,
      "metadata": {},
      "outputs": [
        {
          "name": "stdout",
          "output_type": "stream",
          "text": [
            "Cross-Validation Accuracies: [0.93 0.98 0.97]\n",
            "------------------------Cross-Validation Accuracies with 3 Folds:\n",
            "Fold 1: 0.9300\n",
            "Fold 2: 0.9800\n",
            "Fold 3: 0.9700\n"
          ]
        }
      ],
      "source": [
        "# Cross validate using 3 folds and output the accuracies of the folds\n",
        "cross_val_accuracies = cross_val_score(rf_classifier, X_train_bow, y_train, cv=3)\n",
        "print(\"Cross-Validation Accuracies:\", cross_val_accuracies)\n",
        "print(\"------------------------Cross-Validation Accuracies with 3 Folds:\")\n",
        "\n",
        "#itatate to show the three folds\n",
        "for fold, accuracy in enumerate(cross_val_accuracies, 1):\n",
        "    print(f\"Fold {fold}: {accuracy:.4f}\")"
      ]
    },
    {
      "cell_type": "code",
      "execution_count": 161,
      "metadata": {},
      "outputs": [
        {
          "name": "stdout",
          "output_type": "stream",
          "text": [
            "Confusion Matrix:\n",
            " [[27  0]\n",
            " [ 5 18]]\n"
          ]
        },
        {
          "data": {
            "image/png": "[encoded data removed]",
            "text/plain": [
              "<Figure size 800x600 with 1 Axes>"
            ]
          },
          "metadata": {},
          "output_type": "display_data"
        }
      ],
      "source": [
        "# Generate a confusion matrix for the Random Forest classifier's predictions on the test data\n",
        "conf_matrix = confusion_matrix(y_test, y_pred_test)\n",
        "print(\"Confusion Matrix:\\n\", conf_matrix)\n",
        "\n",
        "# Visualize the confusion matrix\n",
        "plt.figure(figsize=(8, 6))\n",
        "sns.heatmap(conf_matrix, annot=True, fmt='d', cmap='Blues', cbar=False)\n",
        "plt.title(\"Confusion Matrix\")\n",
        "plt.xlabel(\"Predicted Label\")\n",
        "plt.ylabel(\"True Label\")\n",
        "plt.show()"
      ]
    },
    {
      "cell_type": "markdown",
      "metadata": {},
      "source": [
        "# 4. Pipeline Data\n",
        "* Concatenate your 5 files into one using .concat.** (3 points)\n",
        "* Provided you have concatenated the files correctly the length of your new file should be close to 2000. Output the length.** (1 point)\n",
        "* Check the spam-to-ham ratio in the new file; they should be balanced- about 1000 each. Output the number of spams and the number of hams.** (2 points)\n",
        "* Shuffle the new data and create content and label sets, and name them appropriately.** (3 points)"
      ]
    },
    {
      "cell_type": "code",
      "execution_count": 162,
      "metadata": {},
      "outputs": [],
      "source": [
        "git_url_psy = 'https://raw.githubusercontent.com/Fcazarez/RRC3_IntroAI_Project3_Text_Classification_Spam/main/Youtube01-Psy.csv'\n",
        "df_psy = pd.read_csv (git_url_psy)\n",
        "git_url_kate = 'https://raw.githubusercontent.com/Fcazarez/RRC3_IntroAI_Project3_Text_Classification_Spam/main/Youtube02-KatyPerry.csv'\n",
        "df_kate = pd.read_csv (git_url_kate)\n",
        "git_url_lmfao = 'https://raw.githubusercontent.com/Fcazarez/RRC3_IntroAI_Project3_Text_Classification_Spam/main/Youtube03-LMFAO.csv'\n",
        "df_lmfao = pd.read_csv (git_url_lmfao)\n",
        "git_url_eminem = 'https://raw.githubusercontent.com/Fcazarez/RRC3_IntroAI_Project3_Text_Classification_Spam/main/Youtube04-Eminem.csv'\n",
        "df_eminem = pd.read_csv (git_url_eminem)\n",
        "git_url_shakira = 'https://raw.githubusercontent.com/Fcazarez/RRC3_IntroAI_Project3_Text_Classification_Spam/main/Youtube05-Shakira.csv'\n",
        "df_shakira = pd.read_csv (git_url_shakira)"
      ]
    },
    {
      "cell_type": "code",
      "execution_count": 163,
      "metadata": {},
      "outputs": [
        {
          "data": {
            "text/plain": [
              "(350, 350, 438, 448, 370)"
            ]
          },
          "execution_count": 163,
          "metadata": {},
          "output_type": "execute_result"
        }
      ],
      "source": [
        "len(df_psy), len(df_kate), len(df_lmfao), len(df_eminem), len(df_sharika)"
      ]
    },
    {
      "cell_type": "code",
      "execution_count": 164,
      "metadata": {},
      "outputs": [
        {
          "name": "stdout",
          "output_type": "stream",
          "text": [
            "<class 'pandas.core.frame.DataFrame'>\n",
            "RangeIndex: 1956 entries, 0 to 1955\n",
            "Data columns (total 5 columns):\n",
            " #   Column      Non-Null Count  Dtype \n",
            "---  ------      --------------  ----- \n",
            " 0   COMMENT_ID  1956 non-null   object\n",
            " 1   AUTHOR      1956 non-null   object\n",
            " 2   DATE        1711 non-null   object\n",
            " 3   CONTENT     1956 non-null   object\n",
            " 4   CLASS       1956 non-null   int64 \n",
            "dtypes: int64(1), object(4)\n",
            "memory usage: 76.5+ KB\n"
          ]
        }
      ],
      "source": [
        "import pandas as pd\n",
        "\n",
        "# List of all DataFrames\n",
        "all_dataframes = [df_psy, df_kate, df_lmfao, df_eminem, df_shakira]\n",
        "\n",
        "# Concatenate into one DataFrame\n",
        "concat_df = pd.concat(all_dataframes, ignore_index=True)\n",
        "concat_df.info()\n"
      ]
    },
    {
      "cell_type": "code",
      "execution_count": 165,
      "metadata": {},
      "outputs": [
        {
          "name": "stdout",
          "output_type": "stream",
          "text": [
            "Length of the concatenated file: 1956\n"
          ]
        }
      ],
      "source": [
        "len_concat = len(concat_df)\n",
        "\n",
        "print(\"Length of the concatenated file:\", len_concat)"
      ]
    },
    {
      "cell_type": "code",
      "execution_count": 166,
      "metadata": {},
      "outputs": [
        {
          "name": "stdout",
          "output_type": "stream",
          "text": [
            "Number of Spam comments in concat df: 1005\n",
            "Number of Ham comments in concat df: 951\n",
            "Spam-to-Ham Ratio: 1.0567823343848581\n",
            "Spam Proportion: 51.38%\n"
          ]
        }
      ],
      "source": [
        "spam_count = concat_df['CLASS'].value_counts()[1]\n",
        "ham_count = concat_df['CLASS'].value_counts()[0]\n",
        "total_comments = len(concat_df)\n",
        "\n",
        "print(\"Number of Spam comments in concat df:\", spam_count)\n",
        "print(\"Number of Ham comments in concat df:\", ham_count)\n",
        "\n",
        "# Calculate and print the spam-to-ham ratio\n",
        "spam_to_ham_ratio = spam_count / ham_count\n",
        "print(\"Spam-to-Ham Ratio:\", spam_to_ham_ratio)\n",
        "\n",
        "# Calculate and print the spam proportion as a percentage with 2 decimal places\n",
        "spam_proportion = (spam_count / total_comments) * 100\n",
        "print(\"Spam Proportion:\", \"{:.2f}%\".format(spam_proportion))\n",
        "\n"
      ]
    },
    {
      "cell_type": "code",
      "execution_count": 167,
      "metadata": {},
      "outputs": [
        {
          "name": "stdout",
          "output_type": "stream",
          "text": [
            "Shape of content_set: (1956,)\n",
            "Shape of label_set: (1956,)\n"
          ]
        }
      ],
      "source": [
        "# Shuffle the concatenated DataFrame\n",
        "shuffled_df = shuffle(concat_df, random_state=42)\n",
        "\n",
        "# Create content and label sets\n",
        "X_features = shuffled_df['CONTENT']\n",
        "y_labels = shuffled_df['CLASS']\n",
        "\n",
        "# Verify shapes\n",
        "print(\"Shape of content_set:\", X_features.shape)\n",
        "print(\"Shape of label_set:\", y_labels.shape)\n"
      ]
    },
    {
      "cell_type": "markdown",
      "metadata": {},
      "source": []
    },
    {
      "cell_type": "markdown",
      "metadata": {},
      "source": [
        "# 5. Pipeline Creation\n",
        "* Read the sci-kit learn documentation on Pipelines. Name 3 advantages to using a pipeline. You can use any reference you wish to answer this question, just be sure to include the reference in your response.** (5 points)\n",
        "* Create a two-step pipeline with a bag-of-words step and a random forest step.** (3 points)\n",
        "* Output the pipeline to display its steps.** (1 point)\n",
        "* Fit your pipeline with the first 1500 entries of the content and labels. Output.** (3 points)\n",
        "* Use .score to score your pipeline.** (2 points)\n",
        "* Use your pipeline to predict whether the following two comments are spam or ham.** (5 points)\n",
        "   1. \"what a neat video\"\n",
        "   2. \"plz subscribe to my channel\"\n",
        "* Cross-validate using your pipeline. Use cv=3. Print out the accuracies.** (3 points)"
      ]
    },
    {
      "cell_type": "markdown",
      "metadata": {},
      "source": [
        "## 🚀 Advantages of Using Machine Learning Pipelines\n",
        "\n",
        "1. **Convenience and Simplicity:** Pipelines streamline the complexity of machine learning workflows, consolidating preprocessing, feature engineering, and model training into a single, cohesive structure. This enhances code readability and maintainability, offering a convenient way to manage intricate tasks and evolving models (Müller and Guido, 2016).\n",
        "\n",
        "2. **Prevents Data Leakage:** Data leakage, the bane of model evaluation, is mitigated by pipelines. They ensure consistent application of preprocessing steps to both training and testing data, promoting fair model assessments. Carefully sequencing preprocessing within the pipeline is key to preventing unintentional information flow during training (Pedregosa et al., 2011).\n",
        "\n",
        "3. **Ease of Deployment and Reproducibility:** Pipelines facilitate seamless deployment and reproducibility, encapsulating the entire workflow from data preprocessing to model training. This enables easy serialization and deployment, ensuring production environments mirror development accurately. By embracing pipelines, achieve reproducibility in deployment and simplify collaboration through a standardized representation of the machine learning process (Géron, 2019).\n",
        "\n",
        "4. **Efficiency:** A machine learning pipeline is an automated sequence of processes that enables data to flow from its raw state to one that is refined and valuable for machine learning models¹. This brings order and efficiency to what could otherwise be a chaotic process¹.\n",
        "\n",
        "5. **Consistency:** Pipelines ensure that the same sequence of transformations is applied to the data every time, which is crucial for the reproducibility of experiments¹. This consistency is particularly important when using machine learning to make predictions or classifications based on new data¹.\n",
        "\n",
        "6. **Scalability:** Machine learning pipelines are iterative as every step is repeated to continuously improve the accuracy of the model and achieve a successful algorithm². This makes the model scalable, as it can handle larger datasets and more complex transformations².\n",
        "\n",
        "7. **Reproducibility and Collaboration:** A well-constructed machine learning pipeline offers a host of benefits, making it a powerful tool for any data scientist or AI engineer¹. Its core advantages are tied to efficiency, consistency, scalability, reproducibility, and collaboration¹.\n",
        "\n",
        "8. **Control:** The main objective of having a proper pipeline for any ML model is to exercise control over it. A well-organised pipeline makes the implementation more flexible².\n",
        "\n",
        "9. **Real-time Processing and Increased Privacy:** ML pipeline ensures smooth functioning of ML inference at edge level devices where the data generation plays a crucial part and offers features like lower cost, real-time processing, and increased privacy³.\n",
        "\n",
        "🌐 In summary, machine learning pipelines offer a powerful toolkit to organize code, prevent common pitfalls, and simplify deployment.\n",
        "\n",
        "**References:**\n",
        "- (1) [Machine Learning Pipelines: Benefits, Challenges, Use Cases](https://plat.ai/blog/machine-learning-pipeline/).\n",
        "- (2) [What is a Pipeline in Machine Learning? How to create one?](https://medium.com/analytics-vidhya/what-is-a-pipeline-in-machine-learning-how-to-create-one-bda91d0ceaca).\n",
        "- (3) [An overview of Machine Learning pipeline and its importance](https://www.design-reuse.com/articles/53595/an-overview-of-machine-learning-pipeline-and-its-importance.html)."
      ]
    },
    {
      "cell_type": "code",
      "execution_count": 168,
      "metadata": {},
      "outputs": [
        {
          "name": "stdout",
          "output_type": "stream",
          "text": [
            "Steps for the pipeline: [('bow', CountVectorizer()), ('rf', RandomForestClassifier())]\n"
          ]
        }
      ],
      "source": [
        "from sklearn.pipeline import Pipeline\n",
        "from sklearn.feature_extraction.text import CountVectorizer\n",
        "from sklearn.ensemble import RandomForestClassifier\n",
        "\n",
        "# Define the steps for the pipeline\n",
        "steps = [\n",
        "    ('bow', CountVectorizer()),        # Step 1: Bag-of-Words\n",
        "    ('rf', RandomForestClassifier())   # Step 2: Random Forest Classifier\n",
        "]\n",
        "\n",
        "print(\"Steps for the pipeline:\", steps)\n",
        "\n",
        "\n",
        "# Create the pipeline\n",
        "pipeline = Pipeline(steps)\n",
        "\n",
        "# Now you can use the pipeline for fitting and predicting\n",
        "# For example, to fit the pipeline on your training data:\n",
        "# pipeline.fit(X_train, y_train)\n",
        "\n",
        "# And to make predictions on new data:\n",
        "# predictions = pipeline.predict(X_test)\n"
      ]
    },
    {
      "cell_type": "code",
      "execution_count": 169,
      "metadata": {},
      "outputs": [
        {
          "name": "stdout",
          "output_type": "stream",
          "text": [
            "Shape of X_train_subset: (1500,)\n",
            "Shape of y_train_subset: (1500,)\n"
          ]
        },
        {
          "data": {
            "text/plain": [
              "Pipeline(steps=[('bow', CountVectorizer()), ('rf', RandomForestClassifier())])"
            ]
          },
          "execution_count": 169,
          "metadata": {},
          "output_type": "execute_result"
        }
      ],
      "source": [
        "# Assuming you have X_train and y_train from your data\n",
        "X_features_subset = X_features[:1500]\n",
        "y_labels_subset = y_labels[:1500]\n",
        "print(\"Shape of X_train_subset:\", X_features_subset.shape)\n",
        "print(\"Shape of y_train_subset:\", y_labels_subset.shape)\n",
        "\n",
        "# Fit the pipeline with the first 1500 entries\n",
        "pipeline.fit(X_features_subset, y_labels_subset)\n"
      ]
    },
    {
      "cell_type": "code",
      "execution_count": 170,
      "metadata": {},
      "outputs": [
        {
          "name": "stdout",
          "output_type": "stream",
          "text": [
            "Accuracy Score: 1.0\n"
          ]
        }
      ],
      "source": [
        "# Assuming you have X_test and y_test from your data\n",
        "score = pipeline.score(X_test, y_test)\n",
        "\n",
        "# Print the accuracy score\n",
        "print(\"Accuracy Score:\", score)\n"
      ]
    },
    {
      "cell_type": "code",
      "execution_count": 171,
      "metadata": {},
      "outputs": [
        {
          "name": "stdout",
          "output_type": "stream",
          "text": [
            "Comment: 'what a neat video' - Predicted Class: Ham\n",
            "Comment: 'plz subscribe to my channel' - Predicted Class: Spam\n"
          ]
        },
        {
          "data": {
            "text/html": [
              "<div>\n",
              "<style scoped>\n",
              "    .dataframe tbody tr th:only-of-type {\n",
              "        vertical-align: middle;\n",
              "    }\n",
              "\n",
              "    .dataframe tbody tr th {\n",
              "        vertical-align: top;\n",
              "    }\n",
              "\n",
              "    .dataframe thead th {\n",
              "        text-align: right;\n",
              "    }\n",
              "</style>\n",
              "<table border=\"1\" class=\"dataframe\">\n",
              "  <thead>\n",
              "    <tr style=\"text-align: right;\">\n",
              "      <th></th>\n",
              "      <th>Comment</th>\n",
              "      <th>Predicted Class</th>\n",
              "    </tr>\n",
              "  </thead>\n",
              "  <tbody>\n",
              "    <tr>\n",
              "      <th>0</th>\n",
              "      <td>what a neat video</td>\n",
              "      <td>Ham</td>\n",
              "    </tr>\n",
              "    <tr>\n",
              "      <th>1</th>\n",
              "      <td>plz subscribe to my channel</td>\n",
              "      <td>Spam</td>\n",
              "    </tr>\n",
              "  </tbody>\n",
              "</table>\n",
              "</div>"
            ],
            "text/plain": [
              "                       Comment Predicted Class\n",
              "0            what a neat video             Ham\n",
              "1  plz subscribe to my channel            Spam"
            ]
          },
          "execution_count": 171,
          "metadata": {},
          "output_type": "execute_result"
        }
      ],
      "source": [
        "# List new_comments\n",
        "new_comments = [\n",
        "    \"what a neat video\", \n",
        "    \"plz subscribe to my channel\"\n",
        "    ]\n",
        "\n",
        "# Use the pipeline to predict\n",
        "predictions = pipeline.predict(new_comments)\n",
        "\n",
        "# Print the predictions\n",
        "for comment, prediction in zip(new_comments, predictions):\n",
        "    print(f\"Comment: '{comment}' - Predicted Class: {'Spam' if prediction == 1 else 'Ham'}\")\n",
        "\n",
        "# Create a DataFrame\n",
        "df_predictions = pd.DataFrame({\n",
        "    'Comment': new_comments,\n",
        "    'Predicted Class': [ 'Spam' if prediction == 1 else 'Ham' for prediction in predictions]\n",
        "})\n",
        "\n",
        "# Display the DataFrame\n",
        "df_predictions\n"
      ]
    },
    {
      "cell_type": "code",
      "execution_count": 172,
      "metadata": {},
      "outputs": [
        {
          "name": "stdout",
          "output_type": "stream",
          "text": [
            "Fold 1: Accuracy = 0.9400\n",
            "Fold 2: Accuracy = 0.9500\n",
            "Fold 3: Accuracy = 0.9580\n",
            "\n",
            "Average Accuracy: 0.9493\n"
          ]
        }
      ],
      "source": [
        "from sklearn.model_selection import cross_val_score\n",
        "\n",
        "# Perform cross-validation with the pipeline\n",
        "cv_scores = cross_val_score(\n",
        "    pipeline, \n",
        "    X_features_subset, \n",
        "    y_labels_subset, \n",
        "    cv=3, \n",
        "    scoring=\"accuracy\"\n",
        "    )\n",
        "\n",
        "# Print out the accuracies\n",
        "for fold, accuracy in enumerate(cv_scores, 1):\n",
        "    print(f\"Fold {fold}: Accuracy = {accuracy:.4f}\")\n",
        "\n",
        "# Print the average accuracy\n",
        "print(f\"\\nAverage Accuracy: {cv_scores.mean():.4f}\")\n"
      ]
    },
    {
      "cell_type": "markdown",
      "metadata": {},
      "source": [
        "# 6. Pipeline 2 Creation\n",
        "* Create a second pipeline named pipeline2 which includes a TfidfTransformer step.** (3 points)\n",
        "* Cross validate pipeline2 with 3 folds. Output the accuracy.** (3 points)\n",
        "* Use the following parameter dictionary to perform a grid search.** (3 points)\n"
      ]
    },
    {
      "attachments": {
        "image.png": {
          "image/png": "[encoded data removed]"
        }
      },
      "cell_type": "markdown",
      "metadata": {},
      "source": [
        "![image.png](attachment:image.png)"
      ]
    },
    {
      "cell_type": "markdown",
      "metadata": {},
      "source": [
        "* Perform the grid search, you can reduce n_estimators to 2 values and max_features to 1000 and 2000 to speed things up.** (3 points)\n",
        "* Print out the best parameter settings.** (1 point)"
      ]
    },
    {
      "cell_type": "code",
      "execution_count": 173,
      "metadata": {},
      "outputs": [],
      "source": [
        "from sklearn.feature_extraction.text import TfidfTransformer\n",
        "\n",
        "# Define the steps for the second pipeline\n",
        "steps_pipeline2 = [\n",
        "    ('bow', CountVectorizer()),           # Step 1: Bag-of-Words\n",
        "    ('tfidf', TfidfTransformer()),        # Step 2: TF-IDF Transformation\n",
        "    ('rf', RandomForestClassifier())      # Step 3: Random Forest Classifier\n",
        "]\n",
        "\n",
        "# Create the second pipeline (pipeline2)\n",
        "pipeline2 = Pipeline(steps_pipeline2)\n"
      ]
    },
    {
      "cell_type": "code",
      "execution_count": 174,
      "metadata": {},
      "outputs": [
        {
          "name": "stdout",
          "output_type": "stream",
          "text": [
            "Fold 1: Accuracy = 0.9400\n",
            "Fold 2: Accuracy = 0.9460\n",
            "Fold 3: Accuracy = 0.9520\n",
            "\n",
            "Average Accuracy: 0.9460\n"
          ]
        },
        {
          "data": {
            "text/html": [
              "<div>\n",
              "<style scoped>\n",
              "    .dataframe tbody tr th:only-of-type {\n",
              "        vertical-align: middle;\n",
              "    }\n",
              "\n",
              "    .dataframe tbody tr th {\n",
              "        vertical-align: top;\n",
              "    }\n",
              "\n",
              "    .dataframe thead th {\n",
              "        text-align: right;\n",
              "    }\n",
              "</style>\n",
              "<table border=\"1\" class=\"dataframe\">\n",
              "  <thead>\n",
              "    <tr style=\"text-align: right;\">\n",
              "      <th></th>\n",
              "      <th>Fold</th>\n",
              "      <th>Accuracy</th>\n",
              "    </tr>\n",
              "  </thead>\n",
              "  <tbody>\n",
              "    <tr>\n",
              "      <th>0</th>\n",
              "      <td>1</td>\n",
              "      <td>0.940</td>\n",
              "    </tr>\n",
              "    <tr>\n",
              "      <th>1</th>\n",
              "      <td>2</td>\n",
              "      <td>0.946</td>\n",
              "    </tr>\n",
              "    <tr>\n",
              "      <th>2</th>\n",
              "      <td>3</td>\n",
              "      <td>0.952</td>\n",
              "    </tr>\n",
              "  </tbody>\n",
              "</table>\n",
              "</div>"
            ],
            "text/plain": [
              "   Fold  Accuracy\n",
              "0     1     0.940\n",
              "1     2     0.946\n",
              "2     3     0.952"
            ]
          },
          "execution_count": 174,
          "metadata": {},
          "output_type": "execute_result"
        }
      ],
      "source": [
        "from sklearn.model_selection import cross_val_score\n",
        "\n",
        "# Define the number of folds\n",
        "num_folds = 3\n",
        "\n",
        "# Perform cross-validation with pipeline2\n",
        "cv_scores_pipeline2 = cross_val_score(\n",
        "    pipeline2, \n",
        "    X_features_subset, \n",
        "    y_labels_subset, \n",
        "    cv=num_folds,\n",
        "    scoring='accuracy'\n",
        "    )\n",
        "\n",
        "# Print out the accuracies\n",
        "for fold, accuracy in enumerate(cv_scores_pipeline2, 1):\n",
        "    print(f\"Fold {fold}: Accuracy = {accuracy:.4f}\")\n",
        "\n",
        "# Print the average accuracy\n",
        "print(f\"\\nAverage Accuracy: {cv_scores_pipeline2.mean():.4f}\")\n",
        "\n",
        "import pandas as pd\n",
        "\n",
        "# Create a DataFrame for the accuracies of pipeline2\n",
        "df_accuracies_pipeline2 = pd.DataFrame({\n",
        "    'Fold': range(1, num_folds + 1),\n",
        "    'Accuracy': cv_scores_pipeline2\n",
        "})\n",
        "\n",
        "# Display the DataFrame\n",
        "df_accuracies_pipeline2\n",
        "\n"
      ]
    },
    {
      "cell_type": "code",
      "execution_count": 75,
      "metadata": {},
      "outputs": [
        {
          "name": "stdout",
          "output_type": "stream",
          "text": [
            "Best Parameters: {'bow__max_features': 2000, 'bow__ngram_range': (1, 1), 'bow__stop_words': None, 'rf__n_estimators': 50, 'tfidf__use_idf': True}\n",
            "Best Score: 0.9599665978976324\n"
          ]
        }
      ],
      "source": [
        "# Define the parameter dictionary\n",
        "parameters = {\n",
        "    'bow__max_features': [None, 1000, 2000],  # 'bow' is the name of CountVectorizer step\n",
        "    'bow__ngram_range': [(1, 1), (1, 2)],\n",
        "    'bow__stop_words': ['english', None],\n",
        "    'tfidf__use_idf': [True, False],  # 'tfidf' is the name of TfidfTransformer step\n",
        "    'rf__n_estimators': [20, 50]  # 'rf' is the name of RandomForestClassifier step\n",
        "}\n",
        "\n",
        "# Create GridSearchCV instance\n",
        "grid_search = GridSearchCV(\n",
        "    pipeline2, \n",
        "    parameters, \n",
        "    cv=3, \n",
        "    scoring='accuracy'\n",
        ")\n",
        "\n",
        "# Perform the grid search\n",
        "grid_search.fit(X, y)\n",
        "\n",
        "# get best params and best score\n",
        "best_params = grid_search.best_params_\n",
        "best_score = grid_search.best_score_\n",
        "\n",
        "# Print the best parameter settings\n",
        "print(\"Best Parameters:\", best_params)\n",
        "print(\"Best Score:\", best_score)\n"
      ]
    },
    {
      "cell_type": "code",
      "execution_count": 79,
      "metadata": {},
      "outputs": [
        {
          "name": "stdout",
          "output_type": "stream",
          "text": [
            "Best Score: 95.9967%\n"
          ]
        },
        {
          "data": {
            "text/html": [
              "<div>\n",
              "<style scoped>\n",
              "    .dataframe tbody tr th:only-of-type {\n",
              "        vertical-align: middle;\n",
              "    }\n",
              "\n",
              "    .dataframe tbody tr th {\n",
              "        vertical-align: top;\n",
              "    }\n",
              "\n",
              "    .dataframe thead th {\n",
              "        text-align: right;\n",
              "    }\n",
              "</style>\n",
              "<table border=\"1\" class=\"dataframe\">\n",
              "  <thead>\n",
              "    <tr style=\"text-align: right;\">\n",
              "      <th></th>\n",
              "      <th>Parameter</th>\n",
              "      <th>Value</th>\n",
              "    </tr>\n",
              "  </thead>\n",
              "  <tbody>\n",
              "    <tr>\n",
              "      <th>0</th>\n",
              "      <td>bow__max_features</td>\n",
              "      <td>2000</td>\n",
              "    </tr>\n",
              "    <tr>\n",
              "      <th>1</th>\n",
              "      <td>bow__ngram_range</td>\n",
              "      <td>(1, 1)</td>\n",
              "    </tr>\n",
              "    <tr>\n",
              "      <th>2</th>\n",
              "      <td>bow__stop_words</td>\n",
              "      <td>None</td>\n",
              "    </tr>\n",
              "    <tr>\n",
              "      <th>3</th>\n",
              "      <td>rf__n_estimators</td>\n",
              "      <td>50</td>\n",
              "    </tr>\n",
              "    <tr>\n",
              "      <th>4</th>\n",
              "      <td>tfidf__use_idf</td>\n",
              "      <td>True</td>\n",
              "    </tr>\n",
              "  </tbody>\n",
              "</table>\n",
              "</div>"
            ],
            "text/plain": [
              "           Parameter   Value\n",
              "0  bow__max_features    2000\n",
              "1   bow__ngram_range  (1, 1)\n",
              "2    bow__stop_words    None\n",
              "3   rf__n_estimators      50\n",
              "4     tfidf__use_idf    True"
            ]
          },
          "execution_count": 79,
          "metadata": {},
          "output_type": "execute_result"
        }
      ],
      "source": [
        "import pandas as pd\n",
        "\n",
        "\n",
        "# Create a DataFrame\n",
        "df_best_params = pd.DataFrame(list(best_params.items()), columns=['Parameter', 'Value'])\n",
        "\n",
        "\n",
        "print(\"Best Score: {:.4%}\".format(best_score))\n",
        "# Display the DataFrame\n",
        "df_best_params\n"
      ]
    },
    {
      "cell_type": "markdown",
      "metadata": {},
      "source": [
        "# 7. TF Calculation\n",
        "Write python code that takes as an input a list of sentences and outputs the TF for every term in every sentence. (7 points)\n",
        "\n",
        "**Input:** list of sentences\n",
        "\n",
        "**Output:** the term frequency for every word in every sentence\n",
        "\n",
        "**Test Cases:**\n",
        "```python\n",
        "sentences = [\n",
        "    \"Python is a great programming language\",\n",
        "    \"Python can be used for a wide variety of programming tasks\",\n",
        "    \"It's easy to learn Python\"\n",
        "]\n",
        "sentences = [\"I love math\", \"Math is great\", \"Math rules\"]\n"
      ]
    },
    {
      "cell_type": "code",
      "execution_count": 92,
      "metadata": {},
      "outputs": [],
      "source": [
        "import re\n",
        "from collections import Counter\n",
        "\n",
        "def tokenize_sentence(sentence):\n",
        "    # Tokenize the sentence and apply regex to split and remove punctuation\n",
        "    words = re.findall(r'\\w+', sentence.lower())\n",
        "    return words\n",
        "\n",
        "def calculate_tf(sentences):\n",
        "    term_frequency = []\n",
        "\n",
        "    for sentence in sentences:\n",
        "        # Tokenize each sentence and calculate term frequency\n",
        "        words = tokenize_sentence(sentence)\n",
        "        tf = Counter(words)\n",
        "        term_frequency.append(tf)\n",
        "    return term_frequency\n",
        "\n",
        "def output_term_frequency(sentences, set_name):\n",
        "    term_frequency = calculate_tf(sentences)\n",
        "    print(f\"{set_name}:\")\n",
        "\n",
        "    for i, tf in enumerate(term_frequency, 1):\n",
        "        # Display term frequency for each sentence in the set\n",
        "        print(f\"================ Term Frequency for Sentence {i}: =================\")\n",
        "        for term, frequency in tf.items():\n",
        "            print(f\"{term}: {frequency}\")\n",
        "        print()\n",
        "\n",
        "def create_dataframe(sentences, set_name):\n",
        "    term_frequency_list = calculate_tf(sentences)\n",
        "    data = []\n",
        "\n",
        "    for i, tf in enumerate(term_frequency_list, 1):\n",
        "        # Create a list of dictionaries for each sentence\n",
        "        sentence_data = [{\"Term\": term, \"Frequency\": frequency, \"Sentence\": f\"Sentence {i}\"} \n",
        "                         for term, frequency in tf.items()]\n",
        "        data.extend(sentence_data)\n",
        "\n",
        "    # Create a DataFrame from the list of dictionaries\n",
        "    df = pd.DataFrame(data)\n",
        "    return df\n"
      ]
    },
    {
      "cell_type": "code",
      "execution_count": 90,
      "metadata": {},
      "outputs": [
        {
          "name": "stdout",
          "output_type": "stream",
          "text": [
            "Sentences 1:\n"
          ]
        },
        {
          "data": {
            "text/plain": [
              "['Python is a great programming language',\n",
              " 'Python can be used for a wide variety of programming tasks',\n",
              " \"It's easy to learn Python\"]"
            ]
          },
          "execution_count": 90,
          "metadata": {},
          "output_type": "execute_result"
        }
      ],
      "source": [
        "print (\"Sentences 1:\")\n",
        "sentences_1"
      ]
    },
    {
      "cell_type": "code",
      "execution_count": 94,
      "metadata": {},
      "outputs": [
        {
          "data": {
            "text/html": [
              "<div>\n",
              "<style scoped>\n",
              "    .dataframe tbody tr th:only-of-type {\n",
              "        vertical-align: middle;\n",
              "    }\n",
              "\n",
              "    .dataframe tbody tr th {\n",
              "        vertical-align: top;\n",
              "    }\n",
              "\n",
              "    .dataframe thead th {\n",
              "        text-align: right;\n",
              "    }\n",
              "</style>\n",
              "<table border=\"1\" class=\"dataframe\">\n",
              "  <thead>\n",
              "    <tr style=\"text-align: right;\">\n",
              "      <th></th>\n",
              "      <th>Term</th>\n",
              "      <th>Frequency</th>\n",
              "      <th>Sentence</th>\n",
              "    </tr>\n",
              "  </thead>\n",
              "  <tbody>\n",
              "    <tr>\n",
              "      <th>0</th>\n",
              "      <td>python</td>\n",
              "      <td>1</td>\n",
              "      <td>Sentence 1</td>\n",
              "    </tr>\n",
              "    <tr>\n",
              "      <th>1</th>\n",
              "      <td>is</td>\n",
              "      <td>1</td>\n",
              "      <td>Sentence 1</td>\n",
              "    </tr>\n",
              "    <tr>\n",
              "      <th>2</th>\n",
              "      <td>a</td>\n",
              "      <td>1</td>\n",
              "      <td>Sentence 1</td>\n",
              "    </tr>\n",
              "    <tr>\n",
              "      <th>3</th>\n",
              "      <td>great</td>\n",
              "      <td>1</td>\n",
              "      <td>Sentence 1</td>\n",
              "    </tr>\n",
              "    <tr>\n",
              "      <th>4</th>\n",
              "      <td>programming</td>\n",
              "      <td>1</td>\n",
              "      <td>Sentence 1</td>\n",
              "    </tr>\n",
              "    <tr>\n",
              "      <th>5</th>\n",
              "      <td>language</td>\n",
              "      <td>1</td>\n",
              "      <td>Sentence 1</td>\n",
              "    </tr>\n",
              "    <tr>\n",
              "      <th>6</th>\n",
              "      <td>python</td>\n",
              "      <td>1</td>\n",
              "      <td>Sentence 2</td>\n",
              "    </tr>\n",
              "    <tr>\n",
              "      <th>7</th>\n",
              "      <td>can</td>\n",
              "      <td>1</td>\n",
              "      <td>Sentence 2</td>\n",
              "    </tr>\n",
              "    <tr>\n",
              "      <th>8</th>\n",
              "      <td>be</td>\n",
              "      <td>1</td>\n",
              "      <td>Sentence 2</td>\n",
              "    </tr>\n",
              "    <tr>\n",
              "      <th>9</th>\n",
              "      <td>used</td>\n",
              "      <td>1</td>\n",
              "      <td>Sentence 2</td>\n",
              "    </tr>\n",
              "    <tr>\n",
              "      <th>10</th>\n",
              "      <td>for</td>\n",
              "      <td>1</td>\n",
              "      <td>Sentence 2</td>\n",
              "    </tr>\n",
              "    <tr>\n",
              "      <th>11</th>\n",
              "      <td>a</td>\n",
              "      <td>1</td>\n",
              "      <td>Sentence 2</td>\n",
              "    </tr>\n",
              "    <tr>\n",
              "      <th>12</th>\n",
              "      <td>wide</td>\n",
              "      <td>1</td>\n",
              "      <td>Sentence 2</td>\n",
              "    </tr>\n",
              "    <tr>\n",
              "      <th>13</th>\n",
              "      <td>variety</td>\n",
              "      <td>1</td>\n",
              "      <td>Sentence 2</td>\n",
              "    </tr>\n",
              "    <tr>\n",
              "      <th>14</th>\n",
              "      <td>of</td>\n",
              "      <td>1</td>\n",
              "      <td>Sentence 2</td>\n",
              "    </tr>\n",
              "    <tr>\n",
              "      <th>15</th>\n",
              "      <td>programming</td>\n",
              "      <td>1</td>\n",
              "      <td>Sentence 2</td>\n",
              "    </tr>\n",
              "    <tr>\n",
              "      <th>16</th>\n",
              "      <td>tasks</td>\n",
              "      <td>1</td>\n",
              "      <td>Sentence 2</td>\n",
              "    </tr>\n",
              "    <tr>\n",
              "      <th>17</th>\n",
              "      <td>it</td>\n",
              "      <td>1</td>\n",
              "      <td>Sentence 3</td>\n",
              "    </tr>\n",
              "    <tr>\n",
              "      <th>18</th>\n",
              "      <td>s</td>\n",
              "      <td>1</td>\n",
              "      <td>Sentence 3</td>\n",
              "    </tr>\n",
              "    <tr>\n",
              "      <th>19</th>\n",
              "      <td>easy</td>\n",
              "      <td>1</td>\n",
              "      <td>Sentence 3</td>\n",
              "    </tr>\n",
              "    <tr>\n",
              "      <th>20</th>\n",
              "      <td>to</td>\n",
              "      <td>1</td>\n",
              "      <td>Sentence 3</td>\n",
              "    </tr>\n",
              "    <tr>\n",
              "      <th>21</th>\n",
              "      <td>learn</td>\n",
              "      <td>1</td>\n",
              "      <td>Sentence 3</td>\n",
              "    </tr>\n",
              "    <tr>\n",
              "      <th>22</th>\n",
              "      <td>python</td>\n",
              "      <td>1</td>\n",
              "      <td>Sentence 3</td>\n",
              "    </tr>\n",
              "  </tbody>\n",
              "</table>\n",
              "</div>"
            ],
            "text/plain": [
              "           Term  Frequency    Sentence\n",
              "0        python          1  Sentence 1\n",
              "1            is          1  Sentence 1\n",
              "2             a          1  Sentence 1\n",
              "3         great          1  Sentence 1\n",
              "4   programming          1  Sentence 1\n",
              "5      language          1  Sentence 1\n",
              "6        python          1  Sentence 2\n",
              "7           can          1  Sentence 2\n",
              "8            be          1  Sentence 2\n",
              "9          used          1  Sentence 2\n",
              "10          for          1  Sentence 2\n",
              "11            a          1  Sentence 2\n",
              "12         wide          1  Sentence 2\n",
              "13      variety          1  Sentence 2\n",
              "14           of          1  Sentence 2\n",
              "15  programming          1  Sentence 2\n",
              "16        tasks          1  Sentence 2\n",
              "17           it          1  Sentence 3\n",
              "18            s          1  Sentence 3\n",
              "19         easy          1  Sentence 3\n",
              "20           to          1  Sentence 3\n",
              "21        learn          1  Sentence 3\n",
              "22       python          1  Sentence 3"
            ]
          },
          "execution_count": 94,
          "metadata": {},
          "output_type": "execute_result"
        }
      ],
      "source": [
        "df_set_1 = create_dataframe(sentences_1, \"Sentences Set 1\")\n",
        "df_set_1"
      ]
    },
    {
      "cell_type": "code",
      "execution_count": 87,
      "metadata": {},
      "outputs": [
        {
          "name": "stdout",
          "output_type": "stream",
          "text": [
            "Sentences 2:\n"
          ]
        },
        {
          "data": {
            "text/plain": [
              "['I love math', 'Math is great', ' Math rules']"
            ]
          },
          "execution_count": 87,
          "metadata": {},
          "output_type": "execute_result"
        }
      ],
      "source": [
        "print (\"Sentences 2:\")\n",
        "sentences_2"
      ]
    },
    {
      "cell_type": "code",
      "execution_count": 96,
      "metadata": {},
      "outputs": [
        {
          "data": {
            "text/html": [
              "<div>\n",
              "<style scoped>\n",
              "    .dataframe tbody tr th:only-of-type {\n",
              "        vertical-align: middle;\n",
              "    }\n",
              "\n",
              "    .dataframe tbody tr th {\n",
              "        vertical-align: top;\n",
              "    }\n",
              "\n",
              "    .dataframe thead th {\n",
              "        text-align: right;\n",
              "    }\n",
              "</style>\n",
              "<table border=\"1\" class=\"dataframe\">\n",
              "  <thead>\n",
              "    <tr style=\"text-align: right;\">\n",
              "      <th></th>\n",
              "      <th>Term</th>\n",
              "      <th>Frequency</th>\n",
              "      <th>Sentence</th>\n",
              "    </tr>\n",
              "  </thead>\n",
              "  <tbody>\n",
              "    <tr>\n",
              "      <th>0</th>\n",
              "      <td>i</td>\n",
              "      <td>1</td>\n",
              "      <td>Sentence 1</td>\n",
              "    </tr>\n",
              "    <tr>\n",
              "      <th>1</th>\n",
              "      <td>love</td>\n",
              "      <td>1</td>\n",
              "      <td>Sentence 1</td>\n",
              "    </tr>\n",
              "    <tr>\n",
              "      <th>2</th>\n",
              "      <td>math</td>\n",
              "      <td>1</td>\n",
              "      <td>Sentence 1</td>\n",
              "    </tr>\n",
              "    <tr>\n",
              "      <th>3</th>\n",
              "      <td>math</td>\n",
              "      <td>1</td>\n",
              "      <td>Sentence 2</td>\n",
              "    </tr>\n",
              "    <tr>\n",
              "      <th>4</th>\n",
              "      <td>is</td>\n",
              "      <td>1</td>\n",
              "      <td>Sentence 2</td>\n",
              "    </tr>\n",
              "    <tr>\n",
              "      <th>5</th>\n",
              "      <td>great</td>\n",
              "      <td>1</td>\n",
              "      <td>Sentence 2</td>\n",
              "    </tr>\n",
              "    <tr>\n",
              "      <th>6</th>\n",
              "      <td>math</td>\n",
              "      <td>1</td>\n",
              "      <td>Sentence 3</td>\n",
              "    </tr>\n",
              "    <tr>\n",
              "      <th>7</th>\n",
              "      <td>rules</td>\n",
              "      <td>1</td>\n",
              "      <td>Sentence 3</td>\n",
              "    </tr>\n",
              "  </tbody>\n",
              "</table>\n",
              "</div>"
            ],
            "text/plain": [
              "    Term  Frequency    Sentence\n",
              "0      i          1  Sentence 1\n",
              "1   love          1  Sentence 1\n",
              "2   math          1  Sentence 1\n",
              "3   math          1  Sentence 2\n",
              "4     is          1  Sentence 2\n",
              "5  great          1  Sentence 2\n",
              "6   math          1  Sentence 3\n",
              "7  rules          1  Sentence 3"
            ]
          },
          "execution_count": 96,
          "metadata": {},
          "output_type": "execute_result"
        }
      ],
      "source": [
        "df_set_2 = create_dataframe(sentences_2, \"Sentences Set 2\")\n",
        "df_set_2"
      ]
    },
    {
      "cell_type": "markdown",
      "metadata": {},
      "source": [
        "# 8. IDF Calculation\n",
        "\n",
        "Write Python code that calculates the inverse document frequency for a list of sentences.\n",
        "\n",
        "## Inputs\n",
        "- List of sentences\n",
        "\n",
        "## Outputs\n",
        "- Inverse document frequency for each word in the list of sentences.\n",
        "\n",
        "## Test Cases\n",
        "```python\n",
        "sentences_1 = [\n",
        "    \"Python is a great programming language\",\n",
        "    \"Python can be used for a wide variety of programming tasks\",\n",
        "    \"It's easy to learn Python\"\n",
        "]\n",
        "\n",
        "sentences_2 = [\n",
        "    \"I love math\",\n",
        "    \"Math is great\",\n",
        "    \" Math rules\"\n",
        "]\n"
      ]
    },
    {
      "cell_type": "code",
      "execution_count": 121,
      "metadata": {},
      "outputs": [],
      "source": [
        "# Test Cases\n",
        "sentences_1 = [\n",
        "    \"Python is a great programming language\",\n",
        "    \"Python can be used for a wide variety of programming tasks\",\n",
        "    \"It's easy to learn Python\"\n",
        "]\n",
        "\n",
        "sentences_2 = [\n",
        "    \"I love math\",\n",
        "    \"Math is great\",\n",
        "    \" Math rules\"\n",
        "]"
      ]
    },
    {
      "cell_type": "code",
      "execution_count": null,
      "metadata": {},
      "outputs": [],
      "source": [
        "def calculate_idf(sentences):\n",
        "    words_in_sentences = set()\n",
        "    for sentence in sentences:\n",
        "        words = tokenize_sentence(sentence)\n",
        "        words_in_sentences.update(words)\n",
        "\n",
        "    idf = {}\n",
        "    total_sentences = len(sentences)\n",
        "\n",
        "    for word in words_in_sentences:\n",
        "        sentences_containing_word = sum(1 for sentence in sentences if word in tokenize_sentence(sentence))\n",
        "        idf[word] = math.log(total_sentences / (sentences_containing_word + 1))\n",
        "\n",
        "    return idf\n",
        "\n",
        "def output_idf(sentences, set_name):\n",
        "    idf = calculate_idf(sentences)\n",
        "\n",
        "    print(f\"{set_name}:\")\n",
        "    for i, sentence in enumerate(sentences, 1):\n",
        "        print(f\"--------------------IDF for Sentence {i}:\")\n",
        "        words = tokenize_sentence(sentence)\n",
        "        for word in words:\n",
        "            print(f\"'{word}': {idf[word]}\")\n",
        "        print()\n",
        "\n",
        "\n",
        "\n",
        "# calculate and print frequency for set_1\n",
        "output_idf(sentences_1, \"Sentences Set 1\")\n",
        "df_set_1 = create_dataframe(sentences_1, \"Sentences Set 1\")\n",
        "df_set_1\n",
        "\n",
        "# calculate and print frequency for set_2\n",
        "output_idf(sentences_2, \"Sentences Set 2\")\n",
        "df_set_2 = create_dataframe(sentences_2, \"Sentences Set 2\")\n",
        "df_set_2"
      ]
    },
    {
      "cell_type": "code",
      "execution_count": null,
      "metadata": {},
      "outputs": [],
      "source": [
        "def create_dataframe(sentences, set_name):\n",
        "    term_frequency_list = calculate_tf(sentences)\n",
        "    data = []\n",
        "\n",
        "    for i, tf in enumerate(term_frequency_list, 1):\n",
        "        # Create a list of dictionaries for each sentence\n",
        "        sentence_data = [{\"Term\": term, \"Frequency\": frequency, \"Sentence\": f\"Sentence {i}\"} \n",
        "                         for term, frequency in tf.items()]\n",
        "        data.extend(sentence_data)\n",
        "\n",
        "    # Create a DataFrame from the list of dictionaries\n",
        "    df = pd.DataFrame(data)\n",
        "    return df"
      ]
    },
    {
      "cell_type": "code",
      "execution_count": 147,
      "metadata": {},
      "outputs": [],
      "source": [
        "import math\n",
        "import pandas as pd\n",
        "\n",
        "def calculate_idf(sentences):\n",
        "    words_in_sentences = set()\n",
        "    sentence_word_count = {}\n",
        "\n",
        "    # Collect unique words and count their occurrences in each sentence\n",
        "    for i, sentence in enumerate(sentences, 1):\n",
        "        words = tokenize_sentence(sentence)\n",
        "        words_in_sentences.update(words)\n",
        "        sentence_word_count[i] = Counter(words)\n",
        "\n",
        "    idf = {}\n",
        "    total_sentences = len(sentences)\n",
        "\n",
        "    # Calculate IDF scores for each word\n",
        "    for word in words_in_sentences:\n",
        "        sentences_containing_word = sum(1 for sentence_count in sentence_word_count.values() if word in sentence_count)\n",
        "        idf[word] = math.log(total_sentences / (sentences_containing_word + 1))\n",
        "\n",
        "    return idf\n",
        "\n",
        "def output_idf(sentences, set_name):\n",
        "    idf = calculate_idf(sentences)\n",
        "\n",
        "    print(f\"{set_name}:\")\n",
        "    for i, sentence in enumerate(sentences, 1):\n",
        "        print(f\"|-------------------------IDF for Sentence {i}: -------------------------|\")\n",
        "        words = tokenize_sentence(sentence)\n",
        "        for word in words:\n",
        "            print(f\"|'{word}': {idf[word]}\")\n",
        "        print(f\"|----------------------------------------------------------------------|\")\n",
        "        print()"
      ]
    },
    {
      "cell_type": "code",
      "execution_count": 148,
      "metadata": {},
      "outputs": [
        {
          "name": "stdout",
          "output_type": "stream",
          "text": [
            "Sentences Set 1:\n",
            "|-------------------------IDF for Sentence 1: -------------------------|\n",
            "|'Python': -0.2876820724517809\n",
            "|'is': 0.4054651081081644\n",
            "|'a': 0.0\n",
            "|'great': 0.4054651081081644\n",
            "|'programming': 0.0\n",
            "|'language': 0.4054651081081644\n",
            "|----------------------------------------------------------------------|\n",
            "\n",
            "|-------------------------IDF for Sentence 2: -------------------------|\n",
            "|'Python': -0.2876820724517809\n",
            "|'can': 0.4054651081081644\n",
            "|'be': 0.4054651081081644\n",
            "|'used': 0.4054651081081644\n",
            "|'for': 0.4054651081081644\n",
            "|'a': 0.0\n",
            "|'wide': 0.4054651081081644\n",
            "|'variety': 0.4054651081081644\n",
            "|'of': 0.4054651081081644\n",
            "|'programming': 0.0\n",
            "|'tasks': 0.4054651081081644\n",
            "|----------------------------------------------------------------------|\n",
            "\n",
            "|-------------------------IDF for Sentence 3: -------------------------|\n",
            "|'It's': 0.4054651081081644\n",
            "|'easy': 0.4054651081081644\n",
            "|'to': 0.4054651081081644\n",
            "|'learn': 0.4054651081081644\n",
            "|'Python': -0.2876820724517809\n",
            "|----------------------------------------------------------------------|\n",
            "\n"
          ]
        }
      ],
      "source": [
        "# Calculate and print IDF for Sentences Set 1\n",
        "output_idf(sentences_1, \"Sentences Set 1\")\n"
      ]
    },
    {
      "cell_type": "code",
      "execution_count": 149,
      "metadata": {},
      "outputs": [
        {
          "name": "stdout",
          "output_type": "stream",
          "text": [
            "Sentences Set 2:\n",
            "|-------------------------IDF for Sentence 1: -------------------------|\n",
            "|'I': 0.4054651081081644\n",
            "|'love': 0.4054651081081644\n",
            "|'math': 0.4054651081081644\n",
            "|----------------------------------------------------------------------|\n",
            "\n",
            "|-------------------------IDF for Sentence 2: -------------------------|\n",
            "|'Math': 0.0\n",
            "|'is': 0.4054651081081644\n",
            "|'great': 0.4054651081081644\n",
            "|----------------------------------------------------------------------|\n",
            "\n",
            "|-------------------------IDF for Sentence 3: -------------------------|\n",
            "|'Math': 0.0\n",
            "|'rules': 0.4054651081081644\n",
            "|----------------------------------------------------------------------|\n",
            "\n"
          ]
        }
      ],
      "source": [
        "# Calculate and print IDF for Sentences Set 2\n",
        "output_idf(sentences_2, \"Sentences Set 2\")\n"
      ]
    }
  ],
  "metadata": {
    "colab": {
      "provenance": [],
      "toc_visible": true
    },
    "kernelspec": {
      "display_name": "Python 3",
      "name": "python3"
    },
    "language_info": {
      "codemirror_mode": {
        "name": "ipython",
        "version": 3
      },
      "file_extension": ".py",
      "mimetype": "text/x-python",
      "name": "python",
      "nbconvert_exporter": "python",
      "pygments_lexer": "ipython3",
      "version": "3.7.16"
    }
  },
  "nbformat": 4,
  "nbformat_minor": 0
}
